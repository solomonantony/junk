{
  "nbformat": 4,
  "nbformat_minor": 0,
  "metadata": {
    "colab": {
      "provenance": [],
      "authorship_tag": "ABX9TyPvwwqoifPrhju2zQzFU65o",
      "include_colab_link": true
    },
    "kernelspec": {
      "name": "python3",
      "display_name": "Python 3"
    },
    "language_info": {
      "name": "python"
    }
  },
  "cells": [
    {
      "cell_type": "markdown",
      "metadata": {
        "id": "view-in-github",
        "colab_type": "text"
      },
      "source": [
        "<a href=\"https://colab.research.google.com/github/solomonantony/junk/blob/master/Sp24Module2Assignment.ipynb\" target=\"_parent\"><img src=\"https://colab.research.google.com/assets/colab-badge.svg\" alt=\"Open In Colab\"/></a>"
      ]
    },
    {
      "cell_type": "markdown",
      "source": [
        "# Instructions\n",
        "The objective of this assignment is to develop your skills in reading datasets, reformatting the dataset for target analysis software, conducting data cleansing operations, creating new variables, creating and interpreting summary variables, creating and interpreting correlations, creating and interpreting pivot tables, answering questions about the dataset and writing up the analysis process and written report of your findings.\n",
        "\n",
        "Task 0: Downloading data and generating a sample\n",
        "- Download the csv file to your desktop https://drive.google.com/file/d/13xSEH28UXDKFVQl77KaTr4OtY9G51w0K/view?usp=sharing\n",
        "- If you would like help with coding, contact the instructor\n"
      ],
      "metadata": {
        "id": "qkH1R9WDNsfY"
      }
    },
    {
      "cell_type": "code",
      "source": [
        " # Replace 0000 with the last 4 digits of your M number in the line below\n",
        " import random\n",
        "last_4 = 4545\n",
        "my_name = 'xyz'  #Replace this with your name"
      ],
      "metadata": {
        "id": "k-H9btl72WvW"
      },
      "execution_count": null,
      "outputs": []
    },
    {
      "cell_type": "code",
      "execution_count": null,
      "metadata": {
        "id": "HKMUfuDn0oGe"
      },
      "outputs": [],
      "source": [
        "#Run this script to create your own custom sample\n",
        "import numpy as np\n",
        "import pandas as pd\n",
        "cc_applications = pd.read_csv('creditCardApplications.csv')\n",
        "cc_applications = cc_applications.sample(400, random_state=last_4)\n",
        "cc_applications.describe()"
      ]
    },
    {
      "cell_type": "code",
      "source": [
        "#Task 1: Summary statistics, missing values and outliers"
      ],
      "metadata": {
        "id": "eaasSdK09egX"
      },
      "execution_count": null,
      "outputs": []
    },
    {
      "cell_type": "markdown",
      "source": [
        "1.a Some of the Min values of Annual Income and Annual Charges are negative.  Display the Account numbers of those applications. Store those account numbers to a variable.\n"
      ],
      "metadata": {
        "id": "mXAWKa539tmP"
      }
    },
    {
      "cell_type": "code",
      "source": [],
      "metadata": {
        "id": "zVc6_2hRCGLI"
      },
      "execution_count": null,
      "outputs": []
    },
    {
      "cell_type": "markdown",
      "source": [
        "1.b  Replace negative Annual Income and Annual Charges with the average values.  Remember to exclude the records that have negative values.  Display the Annual income and Annual charges of those accounts from Step 1a."
      ],
      "metadata": {
        "id": "4zdqtAsHBlJD"
      }
    },
    {
      "cell_type": "code",
      "source": [],
      "metadata": {
        "id": "dzWlyROa9rZx"
      },
      "execution_count": null,
      "outputs": []
    },
    {
      "cell_type": "markdown",
      "source": [
        "Task 1c.  Create box-and-whisker plot for Annual Income and Annual charges.  After visually verifying there are outliers, identify the account numbers that are outliers (use the 1.5*IQR method."
      ],
      "metadata": {
        "id": "2rPWtqBlCUt1"
      }
    },
    {
      "cell_type": "code",
      "source": [],
      "metadata": {
        "id": "XG1OM4IM03eY"
      },
      "execution_count": null,
      "outputs": []
    },
    {
      "cell_type": "markdown",
      "source": [
        "Task 2: Cross tabulations and correlations"
      ],
      "metadata": {
        "id": "nrTAihOJEUAJ"
      }
    },
    {
      "cell_type": "markdown",
      "source": [
        "Task 2.a Create a new column called 'Age group' that is based on Age column.  For applications with Age less than 30, assign it to \"Young\", applications with Age 31 to 59, assign it to 'Middle age', and assign the rest to 'Elderly'.  Display the Age group distribution as a pie chart"
      ],
      "metadata": {
        "id": "sDZfSLI5EYJO"
      }
    },
    {
      "cell_type": "markdown",
      "source": [
        "Task 2b. Compute the mean Annual Income and Annual Charged grouped by Age group and Gender.  Describe what pattern you foud."
      ],
      "metadata": {
        "id": "1FHWRhJAFWDX"
      }
    },
    {
      "cell_type": "markdown",
      "source": [
        "Task 2c. Compute the correlations matrix.  Display it color coded.  What pattern did you find?"
      ],
      "metadata": {
        "id": "mFecoEsfFquL"
      }
    },
    {
      "cell_type": "markdown",
      "source": [],
      "metadata": {
        "id": "EP15zaO5F37v"
      }
    },
    {
      "cell_type": "code",
      "source": [],
      "metadata": {
        "colab": {
          "base_uri": "https://localhost:8080/"
        },
        "id": "KJHLJJVW4sz9",
        "outputId": "47d96253-8f64-4cbb-bcb1-2d1a37f19572"
      },
      "execution_count": null,
      "outputs": [
        {
          "output_type": "execute_result",
          "data": {
            "text/plain": [
              "3781"
            ]
          },
          "metadata": {},
          "execution_count": 46
        }
      ]
    },
    {
      "cell_type": "markdown",
      "source": [
        "Task 3: Queries"
      ],
      "metadata": {
        "id": "1JVXkZqEF_KZ"
      }
    },
    {
      "cell_type": "markdown",
      "source": [
        "Task 3a. Among the Young Male applicants, which applications have Annual income that is higher than overall average?"
      ],
      "metadata": {
        "id": "KM_0IMXEGBkp"
      }
    },
    {
      "cell_type": "markdown",
      "source": [
        "Task 3b. Among the 'Elderly' Male applicants, who have highest annual charges.  List the top 10."
      ],
      "metadata": {
        "id": "Ql8RJufwGQQP"
      }
    },
    {
      "cell_type": "markdown",
      "source": [
        "Task 3c. How young are the 10 youngest male applicants?"
      ],
      "metadata": {
        "id": "ewJApqTfGdgD"
      }
    },
    {
      "cell_type": "code",
      "source": [],
      "metadata": {
        "id": "xqgKgFij1OHh"
      },
      "execution_count": null,
      "outputs": []
    },
    {
      "cell_type": "markdown",
      "source": [
        "Create a report with a coverpage, Introduction, and your answers to the tasks.  Include screenshots as evidence of your claims."
      ],
      "metadata": {
        "id": "BwgiMqZyHWDi"
      }
    }
  ]
}